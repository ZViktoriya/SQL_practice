{
 "cells": [
  {
   "cell_type": "markdown",
   "metadata": {},
   "source": [
    "### 1. Отобразите все записи из таблицы company по компаниям, которые закрылись."
   ]
  },
  {
   "cell_type": "code",
   "execution_count": null,
   "metadata": {
    "vscode": {
     "languageId": "plaintext"
    }
   },
   "outputs": [],
   "source": [
    "SELECT *\n",
    "FROM company\n",
    "WHERE status = 'closed' ;"
   ]
  },
  {
   "cell_type": "markdown",
   "metadata": {},
   "source": [
    "### 2. Отобразите количество привлечённых средств для новостных компаний США. Используйте данные из таблицы company. Отсортируйте таблицу по убыванию значений в поле funding_total."
   ]
  },
  {
   "cell_type": "code",
   "execution_count": null,
   "metadata": {
    "vscode": {
     "languageId": "plaintext"
    }
   },
   "outputs": [],
   "source": [
    "SELECT funding_total\n",
    "FROM company\n",
    "WHERE country_code = 'USA' AND category_code = 'news'\n",
    "ORDER BY funding_total DESC;"
   ]
  },
  {
   "cell_type": "markdown",
   "metadata": {},
   "source": [
    "### 3. Найдите общую сумму сделок по покупке одних компаний другими в долларах. Отберите сделки, которые осуществлялись только за наличные с 2011 по 2013 год включительно."
   ]
  },
  {
   "cell_type": "code",
   "execution_count": null,
   "metadata": {
    "vscode": {
     "languageId": "plaintext"
    }
   },
   "outputs": [],
   "source": [
    "SELECT SUM(price_amount) AS total_cash_deals\n",
    "FROM acquisition\n",
    "WHERE term_code = 'cash' \n",
    "      AND acquired_at \n",
    "BETWEEN '2011-01-01' AND '2013-12-31';"
   ]
  },
  {
   "cell_type": "markdown",
   "metadata": {},
   "source": [
    "### 4. Отобразите имя, фамилию и названия аккаунтов людей в твиттере, у которых названия аккаунтов начинаются на 'Silver'."
   ]
  },
  {
   "cell_type": "code",
   "execution_count": null,
   "metadata": {
    "vscode": {
     "languageId": "plaintext"
    }
   },
   "outputs": [],
   "source": [
    "SELECT first_name,\n",
    "       last_name,\n",
    "       twitter_username\n",
    "FROM people\n",
    "WHERE  twitter_username LIKE 'Silver%';"
   ]
  },
  {
   "cell_type": "markdown",
   "metadata": {},
   "source": [
    "### 5. Выведите на экран всю информацию о людях, у которых названия аккаунтов в твиттере содержат подстроку 'money', а фамилия начинается на 'K'."
   ]
  },
  {
   "cell_type": "code",
   "execution_count": null,
   "metadata": {
    "vscode": {
     "languageId": "plaintext"
    }
   },
   "outputs": [],
   "source": [
    "SELECT *\n",
    "FROM people\n",
    "WHERE twitter_username LIKE '%money%' AND last_name LIKE 'K%';"
   ]
  },
  {
   "cell_type": "markdown",
   "metadata": {},
   "source": [
    "\n",
    "### 6. Для каждой страны отобразите общую сумму привлечённых инвестиций, которые получили компании, зарегистрированные в этой стране. Страну, в которой зарегистрирована компания, можно определить по коду страны. Отсортируйте данные по убыванию суммы."
   ]
  },
  {
   "cell_type": "code",
   "execution_count": null,
   "metadata": {
    "vscode": {
     "languageId": "plaintext"
    }
   },
   "outputs": [],
   "source": [
    "SELECT country_code, SUM(funding_total) AS total_investments\n",
    "FROM company\n",
    "GROUP BY country_code\n",
    "ORDER BY total_investments DESC;"
   ]
  },
  {
   "cell_type": "markdown",
   "metadata": {},
   "source": [
    "\n",
    "### 7. Составьте таблицу, в которую войдёт дата проведения раунда, а также минимальное и максимальное значения суммы инвестиций, привлечённых в эту дату.\n",
    "Оставьте в итоговой таблице только те записи, в которых минимальное значение суммы инвестиций не равно нулю и не равно максимальному значению."
   ]
  },
  {
   "cell_type": "code",
   "execution_count": null,
   "metadata": {
    "vscode": {
     "languageId": "plaintext"
    }
   },
   "outputs": [],
   "source": [
    "SELECT funded_at, \n",
    "       MIN(raised_amount) AS min_investment, \n",
    "       MAX(raised_amount) AS max_investment\n",
    "FROM funding_round\n",
    "GROUP BY funded_at\n",
    "HAVING MIN(raised_amount) <> 0 \n",
    "AND MIN(raised_amount) <> MAX(raised_amount);"
   ]
  },
  {
   "cell_type": "markdown",
   "metadata": {},
   "source": [
    "### 8. Создайте поле с категориями:\n",
    "Для фондов, которые инвестируют в 100 и более компаний, назначьте категорию high_activity.\n",
    "Для фондов, которые инвестируют в 20 и более компаний до 100, назначьте категорию middle_activity.\n",
    "Если количество инвестируемых компаний фонда не достигает 20, назначьте категорию low_activity.\n",
    "Отобразите все поля таблицы fund и новое поле с категориями."
   ]
  },
  {
   "cell_type": "code",
   "execution_count": null,
   "metadata": {
    "vscode": {
     "languageId": "plaintext"
    }
   },
   "outputs": [],
   "source": [
    "SELECT *,\n",
    "  CASE\n",
    "    WHEN invested_companies >= 100 THEN 'high_activity'\n",
    "    WHEN invested_companies >= 20 AND invested_companies < 100 THEN 'middle_activity'\n",
    "    ELSE 'low_activity'\n",
    "  END AS category\n",
    "FROM fund;"
   ]
  },
  {
   "cell_type": "markdown",
   "metadata": {},
   "source": [
    "### 9. Для каждой из категорий, назначенных в предыдущем задании, посчитайте округлённое до ближайшего целого числа среднее количество инвестиционных раундов, в которых фонд принимал участие. Выведите на экран категории и среднее число инвестиционных раундов. Отсортируйте таблицу по возрастанию среднего."
   ]
  },
  {
   "cell_type": "code",
   "execution_count": null,
   "metadata": {
    "vscode": {
     "languageId": "plaintext"
    }
   },
   "outputs": [],
   "source": [
    "SELECT \n",
    "  category,\n",
    "  ROUND(AVG(investment_rounds)) AS average_investment_rounds\n",
    "FROM (\n",
    "  SELECT *,\n",
    "    CASE\n",
    "      WHEN invested_companies >= 100 THEN 'high_activity'\n",
    "      WHEN invested_companies >= 20 AND invested_companies < 100 THEN 'middle_activity'\n",
    "      ELSE 'low_activity'\n",
    "    END AS category\n",
    "  FROM fund\n",
    ") AS categorized_funds\n",
    "GROUP BY category\n",
    "ORDER BY average_investment_rounds;"
   ]
  },
  {
   "cell_type": "markdown",
   "metadata": {},
   "source": [
    "### 10. Проанализируйте, в каких странах находятся фонды, которые чаще всего инвестируют в стартапы. \n",
    "Для каждой страны посчитайте минимальное, максимальное и среднее число компаний, в которые инвестировали фонды этой страны, основанные с 2010 по 2012 год включительно. Исключите страны с фондами, у которых минимальное число компаний, получивших инвестиции, равно нулю. \n",
    "Выгрузите десять самых активных стран-инвесторов: отсортируйте таблицу по среднему количеству компаний от большего к меньшему. Затем добавьте сортировку по коду страны в лексикографическом порядке."
   ]
  },
  {
   "cell_type": "code",
   "execution_count": null,
   "metadata": {
    "vscode": {
     "languageId": "plaintext"
    }
   },
   "outputs": [],
   "source": [
    "SELECT country_code,\n",
    "       MIN(invested_companies),\n",
    "       MAX(invested_companies),\n",
    "       AVG(invested_companies)\n",
    "FROM \n",
    "(SELECT *\n",
    "FROM fund       \n",
    "WHERE EXTRACT (YEAR FROM founded_at) BETWEEN 2010 AND 2012) AS f\n",
    " \n",
    "GROUP BY country_code\n",
    "HAVING MIN(invested_companies) > 0\n",
    "ORDER BY AVG(invested_companies) DESC\n",
    "LIMIT 10;"
   ]
  },
  {
   "cell_type": "markdown",
   "metadata": {},
   "source": [
    "### 11. Отобразите имя и фамилию всех сотрудников стартапов. Добавьте поле с названием учебного заведения, которое окончил сотрудник, если эта информация известна."
   ]
  },
  {
   "cell_type": "code",
   "execution_count": null,
   "metadata": {
    "vscode": {
     "languageId": "plaintext"
    }
   },
   "outputs": [],
   "source": [
    "SELECT pep.first_name,\n",
    "       pep.last_name,\n",
    "       ed.instituition\n",
    "FROM people AS pep\n",
    "LEFT JOIN education AS ed ON pep.id=ed.person_id"
   ]
  },
  {
   "cell_type": "markdown",
   "metadata": {},
   "source": [
    "### 12. Для каждой компании найдите количество учебных заведений, которые окончили её сотрудники. Выведите название компании и число уникальных названий учебных заведений. Составьте топ-5 компаний по количеству университетов."
   ]
  },
  {
   "cell_type": "code",
   "execution_count": null,
   "metadata": {
    "vscode": {
     "languageId": "plaintext"
    }
   },
   "outputs": [],
   "source": [
    "SELECT c.name,\n",
    "       COUNT(DISTINCT e.instituition)\n",
    "FROM company AS c\n",
    "INNER JOIN people AS p ON c.id=p.company_id\n",
    "INNER JOIN education AS e ON p.id=e.person_id\n",
    "GROUP BY c.name\n",
    "ORDER BY COUNT(DISTINCT e.instituition) DESC\n",
    "LIMIT 5"
   ]
  },
  {
   "cell_type": "markdown",
   "metadata": {},
   "source": [
    "### 13. Составьте список с уникальными названиями закрытых компаний, для которых первый раунд финансирования оказался последним."
   ]
  },
  {
   "cell_type": "code",
   "execution_count": null,
   "metadata": {
    "vscode": {
     "languageId": "plaintext"
    }
   },
   "outputs": [],
   "source": [
    "SELECT DISTINCT c.name\n",
    "FROM company AS c\n",
    "LEFT JOIN funding_round AS fr ON c.id=fr.company_id\n",
    "WHERE status LIKE '%closed%'\n",
    "  AND is_first_round = 1\n",
    "  AND is_last_round = 1"
   ]
  },
  {
   "cell_type": "code",
   "execution_count": null,
   "metadata": {
    "vscode": {
     "languageId": "plaintext"
    }
   },
   "outputs": [],
   "source": [
    "SELECT DISTINCT c.name\n",
    "FROM company AS c\n",
    "WHERE c.id IN (\n",
    "  SELECT fr.company_id\n",
    "  FROM funding_round AS fr\n",
    "  WHERE fr.is_first_round = 1\n",
    "    AND fr.is_last_round = 1\n",
    ")\n",
    "AND c.status LIKE '%closed%';"
   ]
  },
  {
   "cell_type": "markdown",
   "metadata": {},
   "source": [
    "### 14. Составьте список уникальных номеров сотрудников, которые работают в компаниях, отобранных в предыдущем задании."
   ]
  },
  {
   "cell_type": "code",
   "execution_count": null,
   "metadata": {
    "vscode": {
     "languageId": "plaintext"
    }
   },
   "outputs": [],
   "source": [
    "SELECT DISTINCT p.id\n",
    "FROM people AS p\n",
    "WHERE p.company_id IN (\n",
    "  SELECT com.id\n",
    "  FROM company AS com\n",
    "  INNER JOIN funding_round AS fr ON com.id = fr.company_id\n",
    "  WHERE com.status LIKE '%closed%'\n",
    "    AND fr.is_first_round = 1\n",
    "    AND fr.is_last_round = 1\n",
    ");"
   ]
  },
  {
   "cell_type": "code",
   "execution_count": null,
   "metadata": {
    "vscode": {
     "languageId": "plaintext"
    }
   },
   "outputs": [],
   "source": [
    "SELECT DISTINCT p.id\n",
    "FROM company AS com\n",
    "INNER JOIN funding_round AS fr ON com.id=fr.company_id\n",
    "INNER JOIN people AS p ON com.id=p.company_id\n",
    "WHERE STATUS LIKE '%closed%'\n",
    "  AND is_first_round = 1\n",
    "  AND is_last_round = 1"
   ]
  },
  {
   "cell_type": "markdown",
   "metadata": {},
   "source": [
    "### 15. Составьте таблицу, куда войдут уникальные пары с номерами сотрудников из предыдущей задачи и учебным заведением, которое окончил сотрудник."
   ]
  },
  {
   "cell_type": "code",
   "execution_count": null,
   "metadata": {
    "vscode": {
     "languageId": "plaintext"
    }
   },
   "outputs": [],
   "source": [
    "SELECT DISTINCT p.id, ed.instituition\n",
    "FROM people AS p\n",
    "INNER JOIN education AS ed ON p.id = ed.person_id\n",
    "WHERE p.company_id IN (\n",
    "  SELECT com.id\n",
    "  FROM company AS com\n",
    "  INNER JOIN funding_round AS fr ON com.id = fr.company_id\n",
    "  WHERE com.status LIKE '%closed%'\n",
    "    AND fr.is_first_round = 1\n",
    "    AND fr.is_last_round = 1\n",
    ");"
   ]
  },
  {
   "cell_type": "markdown",
   "metadata": {},
   "source": [
    "### 16. Посчитайте количество учебных заведений для каждого сотрудника из предыдущего задания. При подсчёте учитывайте, что некоторые сотрудники могли окончить одно и то же заведение дважды."
   ]
  },
  {
   "cell_type": "code",
   "execution_count": null,
   "metadata": {
    "vscode": {
     "languageId": "plaintext"
    }
   },
   "outputs": [],
   "source": [
    "SELECT DISTINCT p.id,\n",
    "       COUNT(ed.instituition)\n",
    "FROM company AS com\n",
    "INNER JOIN people AS p ON com.id=p.company_id\n",
    "LEFT JOIN education AS ed ON p.id=ed.person_id\n",
    "WHERE STATUS LIKE '%closed%'\n",
    "  AND com.id IN (SELECT company_id\n",
    "                FROM funding_round\n",
    "                 WHERE is_first_round = 1\n",
    "                   AND is_last_round = 1)\n",
    "AND ed.instituition IS NOT NULL\n",
    "GROUP BY p.id"
   ]
  },
  {
   "cell_type": "markdown",
   "metadata": {},
   "source": [
    "### 17. Дополните предыдущий запрос и выведите среднее число учебных заведений (всех, не только уникальных), которые окончили сотрудники разных компаний. Нужно вывести только одну запись, группировка здесь не понадобится."
   ]
  },
  {
   "cell_type": "code",
   "execution_count": null,
   "metadata": {
    "vscode": {
     "languageId": "plaintext"
    }
   },
   "outputs": [],
   "source": [
    "SELECT AVG(education_count) AS average_education_count\n",
    "FROM (\n",
    "  SELECT COUNT(ed.instituition) AS education_count\n",
    "  FROM company AS com\n",
    "  INNER JOIN people AS p ON com.id = p.company_id\n",
    "  LEFT JOIN education AS ed ON p.id = ed.person_id\n",
    "  WHERE com.id IN (\n",
    "    SELECT company_id\n",
    "    FROM funding_round\n",
    "    WHERE is_first_round = 1\n",
    "      AND is_last_round = 1\n",
    "  )\n",
    "  AND com.status LIKE '%closed'\n",
    "  AND ed.instituition IS NOT NULL\n",
    "  GROUP BY p.id\n",
    ") AS subquery;"
   ]
  },
  {
   "cell_type": "markdown",
   "metadata": {},
   "source": [
    "### 18. Напишите похожий запрос: выведите среднее число учебных заведений (всех, не только уникальных), которые окончили сотрудники Facebook."
   ]
  },
  {
   "cell_type": "code",
   "execution_count": null,
   "metadata": {
    "vscode": {
     "languageId": "plaintext"
    }
   },
   "outputs": [],
   "source": [
    "SELECT AVG(education_count) AS average_education_count\n",
    "FROM (\n",
    "  SELECT COUNT(ed.instituition) AS education_count\n",
    "  FROM company AS com\n",
    "  INNER JOIN people AS p ON com.id = p.company_id\n",
    "  LEFT JOIN education AS ed ON p.id = ed.person_id\n",
    "  WHERE com.name = 'Facebook' \n",
    "  AND ed.instituition IS NOT NULL\n",
    "  GROUP BY p.id\n",
    ") AS subquery;"
   ]
  },
  {
   "cell_type": "markdown",
   "metadata": {},
   "source": [
    "### 19. Составьте таблицу из полей:\n",
    "name_of_fund — название фонда;\n",
    "name_of_company — название компании;\n",
    "amount — сумма инвестиций, которую привлекла компания в раунде.\n",
    "В таблицу войдут данные о компаниях, в истории которых было больше шести важных этапов, а раунды финансирования проходили с 2012 по 2013 год включительно."
   ]
  },
  {
   "cell_type": "code",
   "execution_count": null,
   "metadata": {
    "vscode": {
     "languageId": "plaintext"
    }
   },
   "outputs": [],
   "source": [
    "SELECT f.name AS name_of_fund,\n",
    "       c.name AS name_of_company,\n",
    "       fr.raised_amount AS amount\n",
    "FROM investment AS i\n",
    "INNER JOIN company AS c ON i.company_id = c.id\n",
    "INNER JOIN fund AS f ON i.fund_id = f.id\n",
    "INNER JOIN funding_round AS fr ON i.funding_round_id=fr.id\n",
    "WHERE c.milestones > 6\n",
    "  AND fr.funded_at BETWEEN '2012-01-01' AND '2013-12-31';"
   ]
  },
  {
   "cell_type": "markdown",
   "metadata": {},
   "source": [
    "### 20. Выгрузите таблицу, в которой будут такие поля:\n",
    "название компании-покупателя;\n",
    "сумма сделки;\n",
    "название компании, которую купили;\n",
    "сумма инвестиций, вложенных в купленную компанию;\n",
    "доля, которая отображает, во сколько раз сумма покупки превысила сумму вложенных в компанию инвестиций, округлённая до ближайшего целого числа.\n",
    "Не учитывайте те сделки, в которых сумма покупки равна нулю. Если сумма инвестиций в компанию равна нулю, исключите такую компанию из таблицы. \n",
    "Отсортируйте таблицу по сумме сделки от большей к меньшей, а затем по названию купленной компании в лексикографическом порядке. Ограничьте таблицу первыми десятью записями."
   ]
  },
  {
   "cell_type": "code",
   "execution_count": null,
   "metadata": {
    "vscode": {
     "languageId": "plaintext"
    }
   },
   "outputs": [],
   "source": [
    "SELECT\n",
    "  acq_company.name AS acquiring_company_name,\n",
    "  acq.price_amount AS acquisition_amount,\n",
    "  acquired_company.name AS acquired_company_name,\n",
    "  acquired_company.funding_total AS investment_amount,\n",
    "  ROUND(acq.price_amount / NULLIF(acquired_company.funding_total, 0), 0) AS ratio\n",
    "FROM acquisition AS acq\n",
    "INNER JOIN company AS acq_company ON acq.acquiring_company_id = acq_company.id\n",
    "INNER JOIN company AS acquired_company ON acq.acquired_company_id = acquired_company.id\n",
    "WHERE acq.price_amount > 0\n",
    "AND acquired_company.funding_total > 0\n",
    "ORDER BY acq.price_amount DESC, acquired_company_name\n",
    "LIMIT 10;"
   ]
  },
  {
   "cell_type": "markdown",
   "metadata": {},
   "source": [
    "### 21. Выгрузите таблицу, в которую войдут названия компаний из категории social, получившие финансирование с 2010 по 2013 год включительно. Проверьте, что сумма инвестиций не равна нулю. Выведите также номер месяца, в котором проходил раунд финансирования."
   ]
  },
  {
   "cell_type": "markdown",
   "metadata": {},
   "source": [
    "SELECT\n",
    "  c.name AS company_name,\n",
    "  DATE_PART('month', f.funded_at) AS funding_month\n",
    "FROM company AS c\n",
    "INNER JOIN funding_round AS f ON c.id = f.company_id\n",
    "WHERE c.category_code = 'social'\n",
    "  AND f.funded_at BETWEEN '2010-01-01' AND '2013-12-31'\n",
    "  AND f.raised_amount != 0;"
   ]
  },
  {
   "cell_type": "markdown",
   "metadata": {},
   "source": [
    "### 22. Отберите данные по месяцам с 2010 по 2013 год, когда проходили инвестиционные раунды. Сгруппируйте данные по номеру месяца и получите таблицу, в которой будут поля:\n",
    "номер месяца, в котором проходили раунды;\n",
    "количество уникальных названий фондов из США, которые инвестировали в этом месяце;\n",
    "количество компаний, купленных за этот месяц;\n",
    "общая сумма сделок по покупкам в этом месяце."
   ]
  },
  {
   "cell_type": "code",
   "execution_count": null,
   "metadata": {
    "vscode": {
     "languageId": "plaintext"
    }
   },
   "outputs": [],
   "source": [
    "WITH\n",
    "fundings AS (SELECT EXTRACT (MONTH FROM CAST(fr.funded_at AS DATE)) AS funding_month,\n",
    "      COUNT(DISTINCT f.id) AS id_fund\n",
    "FROM fund AS f     \n",
    "LEFT JOIN investment AS i ON f.id=i.fund_id\n",
    "LEFT JOIN funding_round AS fr ON i.funding_round_id=fr.id\n",
    "WHERE f.country_code = 'USA'\n",
    "  AND EXTRACT(YEAR FROM CAST (fr.funded_at AS DATE)) BETWEEN 2010 AND 2013\n",
    "GROUP BY funding_month),\n",
    " \n",
    "acquisitions AS (SELECT EXTRACT (MONTH FROM CAST(acquired_at AS DATE)) AS funding_month,\n",
    "      COUNT(acquired_company_id) AS acquired,\n",
    "      SUM(price_amount) AS sum_total\n",
    "FROM acquisition\n",
    "WHERE EXTRACT(YEAR FROM CAST (acquired_at AS DATE)) BETWEEN 2010 AND 2013\n",
    "GROUP BY funding_month) \n",
    "SELECT fnd.funding_month,\n",
    "       fnd.id_fund,\n",
    "       acq.acquired,\n",
    "       acq.sum_total\n",
    "FROM fundings AS fnd \n",
    "LEFT JOIN acquisitions AS acq ON fnd.funding_month=acq.funding_month"
   ]
  },
  {
   "cell_type": "markdown",
   "metadata": {},
   "source": [
    "### 23. Составьте сводную таблицу и выведите среднюю сумму инвестиций для стран, в которых есть стартапы, зарегистрированные в 2011, 2012 и 2013 годах. Данные за каждый год должны быть в отдельном поле. Отсортируйте таблицу по среднему значению инвестиций за 2011 год от большего к меньшему."
   ]
  },
  {
   "cell_type": "code",
   "execution_count": null,
   "metadata": {
    "vscode": {
     "languageId": "plaintext"
    }
   },
   "outputs": [],
   "source": [
    "WITH\n",
    "a AS (SELECT country_code,\n",
    "      AVG(funding_total) AS totalavg_2011\n",
    "   FROM company\n",
    "   WHERE EXTRACT(YEAR FROM CAST(founded_at AS DATE)) = 2011\n",
    "     GROUP BY country_code),\n",
    "b AS (SELECT country_code,\n",
    "      AVG(funding_total) AS totalavg_2012\n",
    "   FROM company\n",
    "   WHERE EXTRACT(YEAR FROM CAST(founded_at AS DATE)) = 2012\n",
    "     GROUP BY country_code),\n",
    "c AS (SELECT country_code,\n",
    "      AVG(funding_total) AS totalavg_2013\n",
    "   FROM company\n",
    "   WHERE EXTRACT(YEAR FROM CAST(founded_at AS DATE)) = 2013\n",
    "     GROUP BY country_code)\n",
    "SELECT a.country_code,\n",
    "       a.totalavg_2011,\n",
    "       b.totalavg_2012,\n",
    "       c.totalavg_2013\n",
    "FROM a INNER JOIN b ON a.country_code = b.country_code INNER JOIN c ON a.country_code = c.country_code\n",
    "ORDER BY totalavg_2011 DESC"
   ]
  }
 ],
 "metadata": {
  "language_info": {
   "name": "python"
  }
 },
 "nbformat": 4,
 "nbformat_minor": 2
}
